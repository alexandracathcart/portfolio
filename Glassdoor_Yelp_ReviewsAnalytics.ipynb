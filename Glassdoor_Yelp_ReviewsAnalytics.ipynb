{
 "cells": [
  {
   "cell_type": "markdown",
   "metadata": {},
   "source": [
    "# Analytics on Glassdoor Reviews and Yelp Category Data"
   ]
  },
  {
   "cell_type": "markdown",
   "metadata": {},
   "source": [
    "### Config"
   ]
  },
  {
   "cell_type": "code",
   "execution_count": 1,
   "metadata": {},
   "outputs": [],
   "source": [
    "from pyspark.sql import SparkSession\n",
    "\n",
    "spark = SparkSession \\\n",
    "    .builder \\\n",
    "    .master(\"local\") \\\n",
    "    .appName(\"review_and_category_analytics\") \\\n",
    "    .config(\"spark.executor.memory\", '8g') \\\n",
    "    .config('spark.executor.cores', '4') \\\n",
    "    .config('spark.cores.max', '4') \\\n",
    "    .config(\"spark.driver.memory\",'8g') \\\n",
    "    .getOrCreate()\n",
    "\n",
    "sc = spark.sparkContext"
   ]
  },
  {
   "cell_type": "markdown",
   "metadata": {},
   "source": [
    "### Read in the dataset"
   ]
  },
  {
   "cell_type": "code",
   "execution_count": 2,
   "metadata": {},
   "outputs": [],
   "source": [
    "df = sc.textFile(\"reviews_and_categories.csv\")"
   ]
  },
  {
   "cell_type": "markdown",
   "metadata": {},
   "source": [
    "### Set header as the first row of values in the rdd"
   ]
  },
  {
   "cell_type": "code",
   "execution_count": 3,
   "metadata": {},
   "outputs": [],
   "source": [
    "header = df.first()"
   ]
  },
  {
   "cell_type": "code",
   "execution_count": 4,
   "metadata": {},
   "outputs": [
    {
     "data": {
      "text/plain": [
       "'index,review_emp_txt,categories'"
      ]
     },
     "execution_count": 4,
     "metadata": {},
     "output_type": "execute_result"
    }
   ],
   "source": [
    "header"
   ]
  },
  {
   "cell_type": "markdown",
   "metadata": {},
   "source": [
    "### Look at some data"
   ]
  },
  {
   "cell_type": "code",
   "execution_count": 5,
   "metadata": {},
   "outputs": [
    {
     "data": {
      "text/plain": [
       "['index,review_emp_txt,categories',\n",
       " '0,,\"[\\'point of interest\\', \\'mexican\\', \\'establishment\\', \\'food\\', \\'restaurant\\']\"',\n",
       " '1,,[]',\n",
       " '2,,\"[\\'other\\', \\'food & beverages\\']\"',\n",
       " '3,\"Some franchise owners dock hours. Pros Good discounts on the food. Cons The location where I was working, in North Fresno near Riverpark Mall, was ran by the owner s father who treated the female staff with contempt and derision. Would yell at the staff, in front of the guests, if they didn t exactly follow his formula for making the sandwiches (even when the staff were trying to fulfill the special requests of the guests). He would clock out the closers (with or without their knowledge) before they were done with their tasks, and ask employees to stay an hour or two past the end of their shift, but would not pay them for their time.\",\"[\\'lunch\\', \\'best sandwich\\', \\'entertainment\\', \\'restaurants\\', \\'sub\\', \\'arizona\\', \\'quick\\', \\'social networks\\', \\'washington\\', \\'catering reno\\', \\'establishment\\', \\'nevada\\', \\'restaurant\\', \\'wraps\\', \\'qsr\\', \\'small business\\', \\'meal takeaway\\', \\'hospitality\\', \\'sandwich\\', \\'franchise\\', \\'seminars\\', \\'deli\\', \\'point of interest\\', \\'sandwiches\\', \\'port\\', \\'other\\', \\'food\\', \\'party trays reno\\', \\'service\\', \\'entrepeneur\\', \\'franchises\\', \\'fast food\\', \\'grillers\\', \\'griller\\', \\'salad\\', \\'management\\', \\'businesses\\', \\'self employed\\', \\'wrap\\', \\'submarine\\', \\'delis\\', \\'lake tahoe\\', \\'boss\\', \\'salads\\', \\'trade shows\\', \\'eating places\\', \\'franchising\\', \\'reno\\', \\'subs\\', \\'phoenix\\']\"']"
      ]
     },
     "execution_count": 5,
     "metadata": {},
     "output_type": "execute_result"
    }
   ],
   "source": [
    "df.take(5)"
   ]
  },
  {
   "cell_type": "markdown",
   "metadata": {},
   "source": [
    "### Look at non-header records\n",
    "\n",
    "#### The categories are in a list, so I split at the beginning of the list to separate cols (1,2) from col (3), then split again to obtain cols (1,2,3)"
   ]
  },
  {
   "cell_type": "code",
   "execution_count": 6,
   "metadata": {},
   "outputs": [],
   "source": [
    "data = df.filter(lambda r: r != header) \\\n",
    "        .map(lambda row: (row.split('[')[0], row.split('[')[1:])) \\\n",
    "        .map(lambda x: (x[0].split(',')[0], ''.join(x[0].split(',')[1:]), x[1]))"
   ]
  },
  {
   "cell_type": "code",
   "execution_count": 7,
   "metadata": {},
   "outputs": [
    {
     "data": {
      "text/plain": [
       "[('0',\n",
       "  '\"',\n",
       "  ['\\'point of interest\\', \\'mexican\\', \\'establishment\\', \\'food\\', \\'restaurant\\']\"']),\n",
       " ('1', '', [']']),\n",
       " ('2', '\"', ['\\'other\\', \\'food & beverages\\']\"']),\n",
       " ('3',\n",
       "  '\"Some franchise owners dock hours. Pros Good discounts on the food. Cons The location where I was working in North Fresno near Riverpark Mall was ran by the owner s father who treated the female staff with contempt and derision. Would yell at the staff in front of the guests if they didn t exactly follow his formula for making the sandwiches (even when the staff were trying to fulfill the special requests of the guests). He would clock out the closers (with or without their knowledge) before they were done with their tasks and ask employees to stay an hour or two past the end of their shift but would not pay them for their time.\"\"',\n",
       "  ['\\'lunch\\', \\'best sandwich\\', \\'entertainment\\', \\'restaurants\\', \\'sub\\', \\'arizona\\', \\'quick\\', \\'social networks\\', \\'washington\\', \\'catering reno\\', \\'establishment\\', \\'nevada\\', \\'restaurant\\', \\'wraps\\', \\'qsr\\', \\'small business\\', \\'meal takeaway\\', \\'hospitality\\', \\'sandwich\\', \\'franchise\\', \\'seminars\\', \\'deli\\', \\'point of interest\\', \\'sandwiches\\', \\'port\\', \\'other\\', \\'food\\', \\'party trays reno\\', \\'service\\', \\'entrepeneur\\', \\'franchises\\', \\'fast food\\', \\'grillers\\', \\'griller\\', \\'salad\\', \\'management\\', \\'businesses\\', \\'self employed\\', \\'wrap\\', \\'submarine\\', \\'delis\\', \\'lake tahoe\\', \\'boss\\', \\'salads\\', \\'trade shows\\', \\'eating places\\', \\'franchising\\', \\'reno\\', \\'subs\\', \\'phoenix\\']\"']),\n",
       " ('4',\n",
       "  '\"',\n",
       "  ['\\'french\\', \\'event space\\', \\'wine, full bar & cocktails\\', \\'credit cards\\', \\'drinks\\', \\'price\\', \\'outdoor seating\\', \\'$$\\', \\'point of interest\\', \\'eating places\\', \\'reservations\\', \\'restaurant\\', \\'establishment\\', \\'cocktail bars\\', \\'wine bar\\', \\'bar\\', \\'other\\', \\'food\\', \\'french restaurant\\']\"'])]"
      ]
     },
     "execution_count": 7,
     "metadata": {},
     "output_type": "execute_result"
    }
   ],
   "source": [
    "data.take(5)"
   ]
  },
  {
   "cell_type": "code",
   "execution_count": 8,
   "metadata": {},
   "outputs": [
    {
     "data": {
      "text/plain": [
       "['\"',\n",
       " '',\n",
       " '\"',\n",
       " '\"Some franchise owners dock hours. Pros Good discounts on the food. Cons The location where I was working in North Fresno near Riverpark Mall was ran by the owner s father who treated the female staff with contempt and derision. Would yell at the staff in front of the guests if they didn t exactly follow his formula for making the sandwiches (even when the staff were trying to fulfill the special requests of the guests). He would clock out the closers (with or without their knowledge) before they were done with their tasks and ask employees to stay an hour or two past the end of their shift but would not pay them for their time.\"\"',\n",
       " '\"']"
      ]
     },
     "execution_count": 8,
     "metadata": {},
     "output_type": "execute_result"
    }
   ],
   "source": [
    "data.map(lambda x: x[1]).take(5)"
   ]
  },
  {
   "cell_type": "code",
   "execution_count": 9,
   "metadata": {},
   "outputs": [
    {
     "data": {
      "text/plain": [
       "[['\\'point of interest\\', \\'mexican\\', \\'establishment\\', \\'food\\', \\'restaurant\\']\"'],\n",
       " [']'],\n",
       " ['\\'other\\', \\'food & beverages\\']\"'],\n",
       " ['\\'lunch\\', \\'best sandwich\\', \\'entertainment\\', \\'restaurants\\', \\'sub\\', \\'arizona\\', \\'quick\\', \\'social networks\\', \\'washington\\', \\'catering reno\\', \\'establishment\\', \\'nevada\\', \\'restaurant\\', \\'wraps\\', \\'qsr\\', \\'small business\\', \\'meal takeaway\\', \\'hospitality\\', \\'sandwich\\', \\'franchise\\', \\'seminars\\', \\'deli\\', \\'point of interest\\', \\'sandwiches\\', \\'port\\', \\'other\\', \\'food\\', \\'party trays reno\\', \\'service\\', \\'entrepeneur\\', \\'franchises\\', \\'fast food\\', \\'grillers\\', \\'griller\\', \\'salad\\', \\'management\\', \\'businesses\\', \\'self employed\\', \\'wrap\\', \\'submarine\\', \\'delis\\', \\'lake tahoe\\', \\'boss\\', \\'salads\\', \\'trade shows\\', \\'eating places\\', \\'franchising\\', \\'reno\\', \\'subs\\', \\'phoenix\\']\"'],\n",
       " ['\\'french\\', \\'event space\\', \\'wine, full bar & cocktails\\', \\'credit cards\\', \\'drinks\\', \\'price\\', \\'outdoor seating\\', \\'$$\\', \\'point of interest\\', \\'eating places\\', \\'reservations\\', \\'restaurant\\', \\'establishment\\', \\'cocktail bars\\', \\'wine bar\\', \\'bar\\', \\'other\\', \\'food\\', \\'french restaurant\\']\"']]"
      ]
     },
     "execution_count": 9,
     "metadata": {},
     "output_type": "execute_result"
    }
   ],
   "source": [
    "data.map(lambda x: x[2]).take(5)"
   ]
  },
  {
   "cell_type": "markdown",
   "metadata": {},
   "source": [
    "### Return a count of the total number of records in this data"
   ]
  },
  {
   "cell_type": "code",
   "execution_count": 10,
   "metadata": {},
   "outputs": [
    {
     "data": {
      "text/plain": [
       "1305"
      ]
     },
     "execution_count": 10,
     "metadata": {},
     "output_type": "execute_result"
    }
   ],
   "source": [
    "data.count()"
   ]
  },
  {
   "cell_type": "markdown",
   "metadata": {},
   "source": [
    "### Store only the records with non-empty *review_emp_txt*"
   ]
  },
  {
   "cell_type": "code",
   "execution_count": 11,
   "metadata": {},
   "outputs": [],
   "source": [
    "# filter out records with '\"' (from rows w category data) and '' (from rows w null category data)\n",
    "data_has_review = data.filter(lambda r: r[1] != '\"') \\\n",
    "                      .filter(lambda r: r[1] != '')"
   ]
  },
  {
   "cell_type": "markdown",
   "metadata": {},
   "source": [
    "### Return a count of these non-empty records"
   ]
  },
  {
   "cell_type": "code",
   "execution_count": 12,
   "metadata": {},
   "outputs": [
    {
     "data": {
      "text/plain": [
       "305"
      ]
     },
     "execution_count": 12,
     "metadata": {},
     "output_type": "execute_result"
    }
   ],
   "source": [
    "data_has_review.count()"
   ]
  },
  {
   "cell_type": "code",
   "execution_count": 13,
   "metadata": {},
   "outputs": [
    {
     "data": {
      "text/plain": [
       "[('3',\n",
       "  '\"Some franchise owners dock hours. Pros Good discounts on the food. Cons The location where I was working in North Fresno near Riverpark Mall was ran by the owner s father who treated the female staff with contempt and derision. Would yell at the staff in front of the guests if they didn t exactly follow his formula for making the sandwiches (even when the staff were trying to fulfill the special requests of the guests). He would clock out the closers (with or without their knowledge) before they were done with their tasks and ask employees to stay an hour or two past the end of their shift but would not pay them for their time.\"\"',\n",
       "  ['\\'lunch\\', \\'best sandwich\\', \\'entertainment\\', \\'restaurants\\', \\'sub\\', \\'arizona\\', \\'quick\\', \\'social networks\\', \\'washington\\', \\'catering reno\\', \\'establishment\\', \\'nevada\\', \\'restaurant\\', \\'wraps\\', \\'qsr\\', \\'small business\\', \\'meal takeaway\\', \\'hospitality\\', \\'sandwich\\', \\'franchise\\', \\'seminars\\', \\'deli\\', \\'point of interest\\', \\'sandwiches\\', \\'port\\', \\'other\\', \\'food\\', \\'party trays reno\\', \\'service\\', \\'entrepeneur\\', \\'franchises\\', \\'fast food\\', \\'grillers\\', \\'griller\\', \\'salad\\', \\'management\\', \\'businesses\\', \\'self employed\\', \\'wrap\\', \\'submarine\\', \\'delis\\', \\'lake tahoe\\', \\'boss\\', \\'salads\\', \\'trade shows\\', \\'eating places\\', \\'franchising\\', \\'reno\\', \\'subs\\', \\'phoenix\\']\"']),\n",
       " ('10',\n",
       "  '\"Bushs chicken..more writeups then checks Pros Paid weekly. Nice visor If you have another job they ll work with your schedule Cons This is for belton 1 near the hs. Stuck on counter and drink duty..no tips because customers are too cheap. Carhops are paid way more. I signed up for that but it was only given to veterans. Unrealistic expectations for closing on time. As front of house you clean the restaurant part the bathrooms and are still expected to serve customers until 9 00pm..it gets dirty again just silly. Some unrealistic time for getting your duty done and yet u still get wrote up. Why even clean well You might as well work half butt. Most of my writeups were for this. How does 1 person do everything for the front while the carhops get to work more as a team at closing time. Little odd how they run it. I worked at sonic and was only given 1 write up in 8 months and not for cleaning up at the end..just amateur. Here 6 in 2 months. Too many chiefs not enough Indians. I HIGHLY don t recommend working if you re considered cheap labor like I was. Got hired somewhere else knowing I was gonna be fired eventually. There is literally no business in the restaurant only outside. They re looking for the cheapest labor but they are the quickest to be written up. Other restaurants truly value their lowest paid workers. Beware do not work here!\"\"',\n",
       "  ['\\'fried chicken joint\\', \\'american restaurant\\', \\'chicken wings\\', \\'restaurants\\', \\'no outdoor seating\\', \\'price\\', \\'dining options\\', \\' livers\\', \\'fried chicken\\', \\'gizzards\\', \\'fast food restaurant\\', \\'fast food\\', \\'eating places\\', \\'point of interest\\', \\'restaurant\\', \\'dinner, lunch & more\\', \\'menus\\', \\' sweet tea\\', \\'establishment\\', \\'other\\', \\'food\\']\"']),\n",
       " ('19',\n",
       "  'cashier Pros fun environment and employees were friendly Cons Sometimes they do not have enough employees\"',\n",
       "  ['\\'credit cards\\', \\'restaurants\\', \\'no reservations\\', \\'no outdoor seating\\', \\'colorado\\', \\'menus\\', \\'style pizza\\', \\'establishment\\', \\'price\\', \\'90 min\\', \\'point of interest\\', \\'pizza\\', \\'other\\', \\'food\\', \\'dining options\\', \\'italian\\', \\'napoleon\\', \\'pizza place\\', \\'delivery\\', \\'denver\\', \\'dinner, lunch & more\\', \\'eating places\\', \\'boulder\\', \\'restaurant\\', \\'building\\']\"'])]"
      ]
     },
     "execution_count": 13,
     "metadata": {},
     "output_type": "execute_result"
    }
   ],
   "source": [
    "data_has_review.take(3)"
   ]
  },
  {
   "cell_type": "markdown",
   "metadata": {},
   "source": [
    "### Return how many reviews contain the word \"awesome\""
   ]
  },
  {
   "cell_type": "code",
   "execution_count": 14,
   "metadata": {},
   "outputs": [],
   "source": [
    "awesome_records = data_has_review.filter(lambda r: 'awesome' in r[1])"
   ]
  },
  {
   "cell_type": "code",
   "execution_count": 15,
   "metadata": {},
   "outputs": [
    {
     "data": {
      "text/plain": [
       "10"
      ]
     },
     "execution_count": 15,
     "metadata": {},
     "output_type": "execute_result"
    }
   ],
   "source": [
    "awesome_records.count()"
   ]
  },
  {
   "cell_type": "markdown",
   "metadata": {},
   "source": [
    "### Take a look at those reviews"
   ]
  },
  {
   "cell_type": "code",
   "execution_count": 16,
   "metadata": {},
   "outputs": [
    {
     "data": {
      "text/plain": [
       "[('280',\n",
       "  '\"Manager Pros Great environment awesome owners! I was happy to come to work every day and face any challenges presented. It was a pleasant environment with a lot of opportunity to advance if you worked hard. Cons I had performed the role of a manager long before I was given the raise to match. There is a high turn over rate and it s hard to find good team members who want to work hard.\"\"',\n",
       "  ['\\'entertainment\\', \\'credit cards\\', \\'restaurants\\', \\'green smoothie\\', \\'colleges and universities\\', \\'smoothies and juice bars\\', \\'menus\\', \\'food, beverages & tobacco\\', \\'1\\', \\'juice bar\\', \\'establishment\\', \\'las vegas\\', \\'meal takeaway\\', \\'price\\', \\'juice bars & smoothies\\', \\'hospitality\\', \\'tallahassee\\', \\'point of interest\\', \\'shopping\\', \\'sandwiches\\', \\'health foods\\', \\'wheat grass\\', \\'other\\', \\'food\\', \\'smoothies\\', \\'hampton university\\', \\'franchises\\', \\'$$\\', \\'restaurant chains\\', \\'blimey limey\\', \\'food and beverages\\', \\'dinner, lunch & more\\', \\'eating places\\', \\'restaurant\\', \\'orlando\\', \\'outdoor seating\\']\"']),\n",
       " ('325',\n",
       "  '\"Lascari s Associate Pros The staff you become close with the cooks are awesome and friendly you begin to have regular customers that come to visit you. Cons Managment is awful not organized only car about family and relatives that work for them dont expect to move up without any type of hassle or an epic load of work.\"\"',\n",
       "  ['\\'whittier\\', \\'point of interest\\', \\'italian\\', \\'restaurant\\', \\'pizza\\', \\'establishment\\', \\'other\\', \\'food\\']\"']),\n",
       " ('382',\n",
       "  '\"Manager Pros Great environment awesome owners! I was happy to come to work every day and face any challenges presented. It was a pleasant environment with a lot of opportunity to advance if you worked hard. Cons I had performed the role of a manager long before I was given the raise to match. There is a high turn over rate and it s hard to find good team members who want to work hard.\"\"',\n",
       "  ['\\'private lot\\', \\'credit cards\\', \\'wheelchair accessible\\', \\'no reservations\\', \\'restroom\\', \\'menus\\', \\'smoothie shop\\', \\'drive through\\', \\'1\\', \\'dessert, lunch & more\\', \\'juice bar\\', \\'establishment\\', \\'price\\', \\'juice bars & smoothies\\', \\'slowest drive thru ever\\', \\'parking\\', \\'point of interest\\', \\'shopping\\', \\'other\\', \\'food\\', \\'smoothies\\', \\'dining options\\', \\'$$\\', \\'cafÃ©\\', \\'2 get 1 free\\', \\'nutrition\\', \\'eating places\\', \\'table service & take-out\\', \\'restaurant\\', \\'orlando\\', \\'outdoor seating\\']\"']),\n",
       " ('666',\n",
       "  'Very awesome. Pros They allow the use of flexible schedule. Cons There are too many hostesses.\"',\n",
       "  ['\\'buffets\\', \\'chinese\\', \\'japanese\\', \\'point of interest\\', \\'eating places\\', \\'restaurant\\', \\'establishment\\', \\'other\\', \\'food\\']\"']),\n",
       " ('698',\n",
       "  '\"Epidemiology Interviewer II Pros PHI is a great non profit! Great projects awesome people who care for the well being of several different communities. Great benefits too! Cons There are so many different projects that you don t really get to know anyone outside your own.\"\"',\n",
       "  ['\\'health care\\', \\'housing\\', \\'gym\\', \\'immigration\\', \\'public health and safety\\', \\'health\\', \\'philanthropy\\', \\'noncommercial research organizations\\', \\'journalism\\', \\'public health\\', \\'point of interest\\', \\'california\\', \\'other\\', \\'establishment\\', \\'healthcare reform\\']\"']),\n",
       " ('714',\n",
       "  'Not a bad place to work Pros The couple that owned the one I worked at were very big on school and very flexible with my school schedule Being a delivery driver is great because the tips are awesome Cons The owner was kind of crazy I m kind of a health freak and just don t like working with pizza\"',\n",
       "  ['\\'credit cards\\', \\'no reservations\\', \\'no outdoor seating\\', \\'takeout\\', \\'food delivery\\', \\'menus\\', \\'order food online\\', \\'establishment\\', \\'pizza delivery\\', \\'local pizza\\', \\'drinks\\', \\'price\\', \\'sacramento pizza\\', \\'point of interest\\', \\'sandwiches\\', \\'through the garden\\', \\'pizza\\', \\'order pizza online\\', \\'other\\', \\'food\\', \\'meal delivery\\', \\'pizza menu\\', \\'dining options\\', \\'beer\\', \\'mypizza.com\\', \\'pizzeria\\', \\'extreme pizza\\', \\'$$\\', \\'salad\\', \\'pizza place\\', \\'delivery\\', \\'gluten-free restaurant\\', \\'pints on sunday\\', \\'dinner, lunch & more\\', \\'restaurant\\']\"']),\n",
       " ('854',\n",
       "  '\"Cashier Play Attendant Pros The kids are awesome it feels like a family everyone is willing to help awesome food discount Cons needs new equipment like a new espresso machine coffee maker and blender\"\"',\n",
       "  ['\\'entertainment\\', \\'credit cards\\', \\'kids activities\\', \\'menus\\', \\'establishment\\', \\'cupcakes\\', \\'price\\', \\'magazines\\', \\'hilary duff\\', \\'point of interest\\', \\'reservations\\', \\'pesto panini\\', \\'other\\', \\'food\\', \\'dining options\\', \\'play area\\', \\'american (traditional)\\', \\'cafÃ©\\', \\'doulas\\', \\'venues & event spaces\\', \\'dinner, lunch & more\\', \\'eating places\\', \\'restaurant\\', \\'playground\\', \\'outdoor seating\\']\"']),\n",
       " ('903',\n",
       "  '\"Manager Pros Great environment awesome owners! I was happy to come to work every day and face any challenges presented. It was a pleasant environment with a lot of opportunity to advance if you worked hard. Cons I had performed the role of a manager long before I was given the raise to match. There is a high turn over rate and it s hard to find good team members who want to work hard.\"\"',\n",
       "  ['\\'breakfast\\', \\'entertainment\\', \\'credit cards\\', \\'restaurants\\', \\'no reservations\\', \\'no outdoor seating\\', \\'colleges and universities\\', \\'smoothies and juice bars\\', \\'menus\\', \\'1\\', \\'no wi-fi\\', \\'juice bar\\', \\'establishment\\', \\'wraps and smoothies\\', \\'restaurant\\', \\'las vegas\\', \\'price\\', \\'flatbreads\\', \\'juice bars & smoothies\\', \\'meal takeaway\\', \\'hospitality\\', \\'cafe\\', \\'tallahassee\\', \\'point of interest\\', \\'shopping\\', \\'sandwiches\\', \\'health foods\\', \\'other\\', \\'food\\', \\'kiwi citrus green tea\\', \\'smoothies\\', \\'dining options\\', \\'hampton university\\', \\'franchises\\', \\'restaurant chains\\', \\'sandwich place\\', \\'kiwi quencher\\', \\'cafÃ©\\', \\'food and beverages\\', \\'delivery\\', \\'juice bars &amp; smoothies\\', \\'wraps\\', \\'orlando\\', \\'dinner, breakfast & more\\']\"']),\n",
       " ('923',\n",
       "  '\"Manager Pros Co workers management and overall experience of an awesome brand! Incredible culture awesome food and beautiful diverse customer base. The company is innovative and growing. It is an exciting time to be a part of the team. Cons Need more locations to show the world the brand! As we grow people will see the incredible potential of SkinnyFATS.\"\"',\n",
       "  ['\\'breakfast\\', \\'lunch\\', \\'private lot\\', \\'entertainment\\', \\'credit cards\\', \\'restaurants\\', \\'no reservations\\', \\'smart watches\\', \\'restroom\\', \\'burger\\', \\'menus\\', \\'pancake\\', \\'waffles\\', \\'juices\\', \\'new american restaurant\\', \\'free wi-fi\\', \\'tacos\\', \\'juice bar\\', \\'establishment\\', \\'bacon\\', \\'ahi\\', \\'cookies\\', \\'st. lawrence university\\', \\'las vegas\\', \\'cold press juice\\', \\'price\\', \\'juice bars & smoothies\\', \\'sandwich\\', \\'djs\\', \\'tvs\\', \\'slow boat to china\\', \\'parking\\', \\'point of interest\\', \\'taco\\', \\'sandwiches\\', \\'seafood\\', \\'eggs\\', \\'pizza\\', \\'vegan\\', \\'other\\', \\'food\\', \\'dining options\\', \\'truffle fries\\', \\'juice\\', \\'shake\\', \\'breakfast & brunch\\', \\'gluten-free\\', \\'bellagio hotel and resort\\', \\'$$\\', \\'dinner\\', \\'chix on broadway\\', \\'breakfast spot\\', \\'cold-pressed juice\\', \\'american (new)\\', \\'salad\\', \\'management\\', \\'delivery\\', \\'brunch\\', \\'burgers\\', \\'shakes\\', \\'store\\', \\'pancakes\\', \\'salads\\', \\'wi-fi\\', \\'vegetarian\\', \\'restaurant\\', \\'healthy\\', \\'dessert\\', \\'dinner, breakfast & more\\', \\'waffle\\', \\'fresh juice\\', \\'outdoor seating\\']\"']),\n",
       " ('1174',\n",
       "  '\"Potato Corner Pros flexible hours awesome coworkers free meal during break Cons super busy during weekends (make sure you re able to stand for more than 5 hrs straight) sometimes its hard to even go on break because it gets so busy\"\"',\n",
       "  ['\\'meal takeaway\\', \\'point of interest\\', \\'fast food\\', \\'eating places\\', \\'restaurant\\', \\'establishment\\', \\'other\\', \\'food\\']\"'])]"
      ]
     },
     "execution_count": 16,
     "metadata": {},
     "output_type": "execute_result"
    }
   ],
   "source": [
    "awesome_records.collect()"
   ]
  },
  {
   "cell_type": "markdown",
   "metadata": {},
   "source": [
    "### To eliminate case sensitivity, I've lowercased the reviews and run the same filter to compare results."
   ]
  },
  {
   "cell_type": "code",
   "execution_count": 17,
   "metadata": {},
   "outputs": [],
   "source": [
    "awesome_records_lower = data_has_review.map(lambda r: (r[0], r[1].lower(), r[2])) \\\n",
    "                .filter(lambda r: 'awesome' in r[1]) \\"
   ]
  },
  {
   "cell_type": "code",
   "execution_count": 18,
   "metadata": {},
   "outputs": [
    {
     "data": {
      "text/plain": [
       "[('280',\n",
       "  '\"manager pros great environment awesome owners! i was happy to come to work every day and face any challenges presented. it was a pleasant environment with a lot of opportunity to advance if you worked hard. cons i had performed the role of a manager long before i was given the raise to match. there is a high turn over rate and it s hard to find good team members who want to work hard.\"\"',\n",
       "  ['\\'entertainment\\', \\'credit cards\\', \\'restaurants\\', \\'green smoothie\\', \\'colleges and universities\\', \\'smoothies and juice bars\\', \\'menus\\', \\'food, beverages & tobacco\\', \\'1\\', \\'juice bar\\', \\'establishment\\', \\'las vegas\\', \\'meal takeaway\\', \\'price\\', \\'juice bars & smoothies\\', \\'hospitality\\', \\'tallahassee\\', \\'point of interest\\', \\'shopping\\', \\'sandwiches\\', \\'health foods\\', \\'wheat grass\\', \\'other\\', \\'food\\', \\'smoothies\\', \\'hampton university\\', \\'franchises\\', \\'$$\\', \\'restaurant chains\\', \\'blimey limey\\', \\'food and beverages\\', \\'dinner, lunch & more\\', \\'eating places\\', \\'restaurant\\', \\'orlando\\', \\'outdoor seating\\']\"']),\n",
       " ('325',\n",
       "  '\"lascari s associate pros the staff you become close with the cooks are awesome and friendly you begin to have regular customers that come to visit you. cons managment is awful not organized only car about family and relatives that work for them dont expect to move up without any type of hassle or an epic load of work.\"\"',\n",
       "  ['\\'whittier\\', \\'point of interest\\', \\'italian\\', \\'restaurant\\', \\'pizza\\', \\'establishment\\', \\'other\\', \\'food\\']\"']),\n",
       " ('382',\n",
       "  '\"manager pros great environment awesome owners! i was happy to come to work every day and face any challenges presented. it was a pleasant environment with a lot of opportunity to advance if you worked hard. cons i had performed the role of a manager long before i was given the raise to match. there is a high turn over rate and it s hard to find good team members who want to work hard.\"\"',\n",
       "  ['\\'private lot\\', \\'credit cards\\', \\'wheelchair accessible\\', \\'no reservations\\', \\'restroom\\', \\'menus\\', \\'smoothie shop\\', \\'drive through\\', \\'1\\', \\'dessert, lunch & more\\', \\'juice bar\\', \\'establishment\\', \\'price\\', \\'juice bars & smoothies\\', \\'slowest drive thru ever\\', \\'parking\\', \\'point of interest\\', \\'shopping\\', \\'other\\', \\'food\\', \\'smoothies\\', \\'dining options\\', \\'$$\\', \\'cafÃ©\\', \\'2 get 1 free\\', \\'nutrition\\', \\'eating places\\', \\'table service & take-out\\', \\'restaurant\\', \\'orlando\\', \\'outdoor seating\\']\"']),\n",
       " ('666',\n",
       "  'very awesome. pros they allow the use of flexible schedule. cons there are too many hostesses.\"',\n",
       "  ['\\'buffets\\', \\'chinese\\', \\'japanese\\', \\'point of interest\\', \\'eating places\\', \\'restaurant\\', \\'establishment\\', \\'other\\', \\'food\\']\"']),\n",
       " ('698',\n",
       "  '\"epidemiology interviewer ii pros phi is a great non profit! great projects awesome people who care for the well being of several different communities. great benefits too! cons there are so many different projects that you don t really get to know anyone outside your own.\"\"',\n",
       "  ['\\'health care\\', \\'housing\\', \\'gym\\', \\'immigration\\', \\'public health and safety\\', \\'health\\', \\'philanthropy\\', \\'noncommercial research organizations\\', \\'journalism\\', \\'public health\\', \\'point of interest\\', \\'california\\', \\'other\\', \\'establishment\\', \\'healthcare reform\\']\"']),\n",
       " ('714',\n",
       "  'not a bad place to work pros the couple that owned the one i worked at were very big on school and very flexible with my school schedule being a delivery driver is great because the tips are awesome cons the owner was kind of crazy i m kind of a health freak and just don t like working with pizza\"',\n",
       "  ['\\'credit cards\\', \\'no reservations\\', \\'no outdoor seating\\', \\'takeout\\', \\'food delivery\\', \\'menus\\', \\'order food online\\', \\'establishment\\', \\'pizza delivery\\', \\'local pizza\\', \\'drinks\\', \\'price\\', \\'sacramento pizza\\', \\'point of interest\\', \\'sandwiches\\', \\'through the garden\\', \\'pizza\\', \\'order pizza online\\', \\'other\\', \\'food\\', \\'meal delivery\\', \\'pizza menu\\', \\'dining options\\', \\'beer\\', \\'mypizza.com\\', \\'pizzeria\\', \\'extreme pizza\\', \\'$$\\', \\'salad\\', \\'pizza place\\', \\'delivery\\', \\'gluten-free restaurant\\', \\'pints on sunday\\', \\'dinner, lunch & more\\', \\'restaurant\\']\"']),\n",
       " ('854',\n",
       "  '\"cashier play attendant pros the kids are awesome it feels like a family everyone is willing to help awesome food discount cons needs new equipment like a new espresso machine coffee maker and blender\"\"',\n",
       "  ['\\'entertainment\\', \\'credit cards\\', \\'kids activities\\', \\'menus\\', \\'establishment\\', \\'cupcakes\\', \\'price\\', \\'magazines\\', \\'hilary duff\\', \\'point of interest\\', \\'reservations\\', \\'pesto panini\\', \\'other\\', \\'food\\', \\'dining options\\', \\'play area\\', \\'american (traditional)\\', \\'cafÃ©\\', \\'doulas\\', \\'venues & event spaces\\', \\'dinner, lunch & more\\', \\'eating places\\', \\'restaurant\\', \\'playground\\', \\'outdoor seating\\']\"']),\n",
       " ('903',\n",
       "  '\"manager pros great environment awesome owners! i was happy to come to work every day and face any challenges presented. it was a pleasant environment with a lot of opportunity to advance if you worked hard. cons i had performed the role of a manager long before i was given the raise to match. there is a high turn over rate and it s hard to find good team members who want to work hard.\"\"',\n",
       "  ['\\'breakfast\\', \\'entertainment\\', \\'credit cards\\', \\'restaurants\\', \\'no reservations\\', \\'no outdoor seating\\', \\'colleges and universities\\', \\'smoothies and juice bars\\', \\'menus\\', \\'1\\', \\'no wi-fi\\', \\'juice bar\\', \\'establishment\\', \\'wraps and smoothies\\', \\'restaurant\\', \\'las vegas\\', \\'price\\', \\'flatbreads\\', \\'juice bars & smoothies\\', \\'meal takeaway\\', \\'hospitality\\', \\'cafe\\', \\'tallahassee\\', \\'point of interest\\', \\'shopping\\', \\'sandwiches\\', \\'health foods\\', \\'other\\', \\'food\\', \\'kiwi citrus green tea\\', \\'smoothies\\', \\'dining options\\', \\'hampton university\\', \\'franchises\\', \\'restaurant chains\\', \\'sandwich place\\', \\'kiwi quencher\\', \\'cafÃ©\\', \\'food and beverages\\', \\'delivery\\', \\'juice bars &amp; smoothies\\', \\'wraps\\', \\'orlando\\', \\'dinner, breakfast & more\\']\"']),\n",
       " ('914',\n",
       "  'busboy pros flexible schedule decent tips awesome coworkers 50 employee discount on meals cons physically demanding long hours rude and or impatient customers\"',\n",
       "  ['\\'credit cards\\', \\'no reservations\\', \\'no outdoor seating\\', \\'noodle house\\', \\'menus\\', \\'establishment\\', \\'music\\', \\'spicy spaghetti\\', \\'price\\', \\'asian food\\', \\'pad see ew\\', \\'noodles\\', \\'point of interest\\', \\'other\\', \\'food\\', \\'dining options\\', \\'beef steak\\', \\'$$\\', \\'happy hour, brunch & more\\', \\'asian restaurant\\', \\'live music\\', \\'restaurant\\']\"']),\n",
       " ('923',\n",
       "  '\"manager pros co workers management and overall experience of an awesome brand! incredible culture awesome food and beautiful diverse customer base. the company is innovative and growing. it is an exciting time to be a part of the team. cons need more locations to show the world the brand! as we grow people will see the incredible potential of skinnyfats.\"\"',\n",
       "  ['\\'breakfast\\', \\'lunch\\', \\'private lot\\', \\'entertainment\\', \\'credit cards\\', \\'restaurants\\', \\'no reservations\\', \\'smart watches\\', \\'restroom\\', \\'burger\\', \\'menus\\', \\'pancake\\', \\'waffles\\', \\'juices\\', \\'new american restaurant\\', \\'free wi-fi\\', \\'tacos\\', \\'juice bar\\', \\'establishment\\', \\'bacon\\', \\'ahi\\', \\'cookies\\', \\'st. lawrence university\\', \\'las vegas\\', \\'cold press juice\\', \\'price\\', \\'juice bars & smoothies\\', \\'sandwich\\', \\'djs\\', \\'tvs\\', \\'slow boat to china\\', \\'parking\\', \\'point of interest\\', \\'taco\\', \\'sandwiches\\', \\'seafood\\', \\'eggs\\', \\'pizza\\', \\'vegan\\', \\'other\\', \\'food\\', \\'dining options\\', \\'truffle fries\\', \\'juice\\', \\'shake\\', \\'breakfast & brunch\\', \\'gluten-free\\', \\'bellagio hotel and resort\\', \\'$$\\', \\'dinner\\', \\'chix on broadway\\', \\'breakfast spot\\', \\'cold-pressed juice\\', \\'american (new)\\', \\'salad\\', \\'management\\', \\'delivery\\', \\'brunch\\', \\'burgers\\', \\'shakes\\', \\'store\\', \\'pancakes\\', \\'salads\\', \\'wi-fi\\', \\'vegetarian\\', \\'restaurant\\', \\'healthy\\', \\'dessert\\', \\'dinner, breakfast & more\\', \\'waffle\\', \\'fresh juice\\', \\'outdoor seating\\']\"']),\n",
       " ('1174',\n",
       "  '\"potato corner pros flexible hours awesome coworkers free meal during break cons super busy during weekends (make sure you re able to stand for more than 5 hrs straight) sometimes its hard to even go on break because it gets so busy\"\"',\n",
       "  ['\\'meal takeaway\\', \\'point of interest\\', \\'fast food\\', \\'eating places\\', \\'restaurant\\', \\'establishment\\', \\'other\\', \\'food\\']\"']),\n",
       " ('1266',\n",
       "  '\"awesome place to work pros management is laid back and the work environment is relaxed. everyone that works there is willing to help when you need anything. lots of college kids work there because it is a college town. it s a tremendous job for anyone in boone though. cons there are no cons to working here from my perspective. the job can be high pressure because the restaurant is always busy but it is a good thing if you like quick shifts and making money.\"\"',\n",
       "  ['\\'no reservations\\', \\'no outdoor seating\\', \\'no credit cards\\', \\'american\\', \\'menus\\', \\'establishment\\', \\'chicken\\', \\'family style meal\\', \\'southern / soul food restaurant\\', \\'price\\', \\'point of interest\\', \\'no credit or debit\\', \\'all-you-can-eat\\', \\'food\\', \\'other\\', \\'dining options\\', \\'american (traditional)\\', \\'$$\\', \\'breakfast spot\\', \\'remember cash\\', \\'buffet\\', \\'restaurant\\', \\'dinner, breakfast & more\\']\"'])]"
      ]
     },
     "execution_count": 18,
     "metadata": {},
     "output_type": "execute_result"
    }
   ],
   "source": [
    "awesome_records_lower.collect()"
   ]
  },
  {
   "cell_type": "markdown",
   "metadata": {},
   "source": [
    "### There are two additional reviews that contain the word awesome after changing to lowercase"
   ]
  },
  {
   "cell_type": "code",
   "execution_count": 19,
   "metadata": {},
   "outputs": [
    {
     "data": {
      "text/plain": [
       "12"
      ]
     },
     "execution_count": 19,
     "metadata": {},
     "output_type": "execute_result"
    }
   ],
   "source": [
    "awesome_records_lower.count()"
   ]
  },
  {
   "cell_type": "markdown",
   "metadata": {},
   "source": [
    "### Preprocess the categories in order to return frequencies.\n",
    "\n",
    "#### Characters [] ' \" are stripped, spaces before and after words are trimmed, lowercase, blank categories are removed."
   ]
  },
  {
   "cell_type": "code",
   "execution_count": 20,
   "metadata": {},
   "outputs": [],
   "source": [
    "cats=data.map(lambda r: r[2]) "
   ]
  },
  {
   "cell_type": "code",
   "execution_count": 21,
   "metadata": {},
   "outputs": [
    {
     "data": {
      "text/plain": [
       "[['\\'point of interest\\', \\'mexican\\', \\'establishment\\', \\'food\\', \\'restaurant\\']\"'],\n",
       " [']'],\n",
       " ['\\'other\\', \\'food & beverages\\']\"']]"
      ]
     },
     "execution_count": 21,
     "metadata": {},
     "output_type": "execute_result"
    }
   ],
   "source": [
    "cats.take(3)"
   ]
  },
  {
   "cell_type": "code",
   "execution_count": 22,
   "metadata": {},
   "outputs": [],
   "source": [
    "# Characters [] ' \" are stripped, \n",
    "# spaces before and after words are trimmed, \n",
    "# lowercase, blank categories are removed.\n",
    "cats_flat = cats.map(lambda row: [token.replace('[','') \\\n",
    "                                .replace(']','') \\\n",
    "                                .replace('\\\\','') \\\n",
    "                                .replace(\"'\",'') \\\n",
    "                                .replace('\"','') \\\n",
    "                                .strip() \\\n",
    "                                .lower() for token in row]) \\\n",
    "                                .flatMap(lambda x: x) \\\n",
    "                                .filter(lambda x: x != '') \\\n",
    "                                .flatMap(lambda x: x.split(',')) \\\n",
    "                                .map(lambda x: (x,1)) \\\n",
    "                                .reduceByKey(lambda x,y:x+y) \\\n",
    "                                .map(lambda x:(x[1],x[0])) \\\n",
    "                                .sortByKey(False) "
   ]
  },
  {
   "cell_type": "markdown",
   "metadata": {},
   "source": [
    "### Look at some of the categories"
   ]
  },
  {
   "cell_type": "code",
   "execution_count": 23,
   "metadata": {},
   "outputs": [
    {
     "data": {
      "text/plain": [
       "[(705, ' establishment'),\n",
       " (701, ' food'),\n",
       " (671, ' point of interest'),\n",
       " (643, ' restaurant'),\n",
       " (473, ' price'),\n",
       " (471, ' other'),\n",
       " (311, ' menus'),\n",
       " (254, ' eating places'),\n",
       " (253, ' dining options'),\n",
       " (232, ' credit cards')]"
      ]
     },
     "execution_count": 23,
     "metadata": {},
     "output_type": "execute_result"
    }
   ],
   "source": [
    "cats_flat.take(10)"
   ]
  }
 ],
 "metadata": {
  "anaconda-cloud": {},
  "kernelspec": {
   "display_name": "DS 5110",
   "language": "python",
   "name": "ds5110"
  },
  "language_info": {
   "codemirror_mode": {
    "name": "ipython",
    "version": 3
   },
   "file_extension": ".py",
   "mimetype": "text/x-python",
   "name": "python",
   "nbconvert_exporter": "python",
   "pygments_lexer": "ipython3",
   "version": "3.7.10"
  }
 },
 "nbformat": 4,
 "nbformat_minor": 4
}
