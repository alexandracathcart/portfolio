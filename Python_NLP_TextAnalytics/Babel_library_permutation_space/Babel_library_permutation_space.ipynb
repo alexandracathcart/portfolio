{
 "cells": [
  {
   "cell_type": "markdown",
   "metadata": {
    "colab_type": "text",
    "id": "d5lxxAgsa6go",
    "toc-hr-collapsed": true
   },
   "source": [
    "#  Creating an information source using simplified Polynesian"
   ]
  },
  {
   "cell_type": "markdown",
   "metadata": {},
   "source": [
    "In this project I generated a Babel library permutations space with the following parameters\n",
    "\n",
    " - Uses the Simple Polynesian alphabet (p, t, k, a, i, u)\n",
    " - Uses the following unigram term frequencies— p: .125; t: .25; k: .125; a: .25; i: .125; u: .125.\n",
    " - Gives no weight to spaces in the character set\n",
    " - Uses a message length of seven\n",
    " - Creates a text by randomly selected seven letter words based on the weights (separated by spaces)\n"
   ]
  },
  {
   "cell_type": "code",
   "execution_count": 1,
   "metadata": {
    "colab": {},
    "colab_type": "code",
    "id": "NhxIat0Oa6gz"
   },
   "outputs": [],
   "source": [
    "import re\n",
    "import math\n",
    "import pandas as pd"
   ]
  },
  {
   "cell_type": "markdown",
   "metadata": {},
   "source": [
    "##### Library permutation space:"
   ]
  },
  {
   "cell_type": "code",
   "execution_count": 2,
   "metadata": {
    "colab": {},
    "colab_type": "code",
    "id": "a1-BGAgra6mP",
    "toc-hr-collapsed": true
   },
   "outputs": [],
   "source": [
    "#creates a series using the simple polynesian alphabet\n",
    "#excludes a space character since they would be 0 weighted anyway\n",
    "#space separation is added within print_page method below\n",
    "alpha = pd.Series('p t k a i u'.split())"
   ]
  },
  {
   "cell_type": "code",
   "execution_count": 3,
   "metadata": {},
   "outputs": [],
   "source": [
    "def perm_lib(message_length, char_weights):\n",
    "    \n",
    "    #not needed for the example\n",
    "    #if len(weights) == 0:\n",
    "        #p = 1/alpha.shape[0]\n",
    "        #weights = [p for i in range(alpha.shape[0])]\n",
    "        \n",
    "    #sample m_len characters from the series, according to their weight,\n",
    "    #replace the value in the series and then concatenate them into a str\n",
    "    msg = alpha.sample(message_length, replace=True, weights=char_weights).str.cat()\n",
    "    return msg"
   ]
  },
  {
   "cell_type": "markdown",
   "metadata": {},
   "source": [
    "##### Text Generator"
   ]
  },
  {
   "cell_type": "code",
   "execution_count": 4,
   "metadata": {
    "colab": {},
    "colab_type": "code",
    "id": "a1-BGAgra6mP",
    "toc-hr-collapsed": true
   },
   "outputs": [],
   "source": [
    "def gen_text(n_pages, n_messages, message_length, char_weights):\n",
    "    #user defined # of pages\n",
    "    for i in range(n_pages):\n",
    "        #user defined number of sampled strings, or \"words\", per page\n",
    "        for i in range(n_messages):\n",
    "            #call perm_lib method, passing in user defined parameters\n",
    "            #end='' added to print each str on a continuous line\n",
    "            print(perm_lib(message_length, char_weights), end='')\n",
    "            #Add the space between each \"word\"\n",
    "            print(\" \", end='')\n",
    "        print()\n",
    "        print()\n",
    "        print('-'*20)\n",
    "        print()"
   ]
  },
  {
   "cell_type": "code",
   "execution_count": 5,
   "metadata": {},
   "outputs": [],
   "source": [
    "#list of unigram term frequencies to weight each character when sampling\n",
    "char_weights = [.125,.25,.125,.25,.125,.125]"
   ]
  },
  {
   "cell_type": "code",
   "execution_count": 6,
   "metadata": {
    "colab": {},
    "colab_type": "code",
    "id": "dhGq6-Yda6mW",
    "toc-hr-collapsed": true
   },
   "outputs": [
    {
     "name": "stdout",
     "output_type": "stream",
     "text": [
      "iutaukt ptauatt apuiuii kakakii kiatapu attatpp kuaaapa uppataa itipttk tuitiut ittttaa aptutua ttiakai tutittu ttpapau iitptta kktikua ipuapaa aktkuti ktpaukt taipipp apipuau aaatitt kauppap pauitat ttpkppa tupkikt pauaita iapttai taapakt aptapat patatta katuaia tptkiti kauattt atkakta paaptii auttpip tatuapt auaaaat ptitaak tttpaua aaautap kautttt uttuaak atkatti pauaika aiktaku ikuakuk tapittp pippktt iapatpt iuttuak atitptk taitkpt tptttpp ktitatp iutatuk ikkappa apututu aitiuuk ttituap tiputap akkatii kpappit uatatka atiikka tiuptpt auaktak kptatku attaktt tapiatp iiktata tkkatti tatktpa iputkku uapttat aitaiiu tapakkp atikktt ukkapip tutttak uppauka aaaaktt aatpatt tiutakp aaptkpa tiiipua iaaaiai kiaaktp aatautu taipapp titauat tiuaika uataaii aktatkp atauapa apiuaat tauuatt tuaikkk \n",
      "\n",
      "--------------------\n",
      "\n",
      "taaiaua ttptaat akakpia ttiattk aapiaaa uttaipa apukpap apkuata aaikaup ataaaaa tptppkk taupaia tuiuiat attkapi tttkppa atpiktt ipukptu ttpiuau taiaapa uatuttu tapaiit atattui piupatp akatiai appuatk tpaputt iapuatk tptauua upkaaut itatutu tpataak aaauaki kkiptaa aappuat ktiptpu tpaapiu tktpkuk puakiut pkaptaa itataut aukkpku pipaupa taataaa ktpittt tttuiaa akiiktk iitpuii kuatipk kkktuka apupaai paktiak iakpipi utuitta tataapt aaipata tpaiata iatkkut paaptak apakput pkkutka uaatkat ituautp kuikapt kppkaai kataati piakuua atakpip ptpkupi ptutaui ktputku ppauaai tatitau tkkttai kttttti tiiitti utuatpi atpaitp tkkuiit pitktat aptpaau ptkppiu takatpu ttipaau autaati ukattkk ktutpui pkatkkp uapaati apauttk apiitki kuutttp kuappat katitau aiatpua uuikppk aiatakk ttapakt ttuuiuk aktaiap tpaptap \n",
      "\n",
      "--------------------\n",
      "\n"
     ]
    }
   ],
   "source": [
    "gen_text(2, 100, 7, char_weights)"
   ]
  }
 ],
 "metadata": {
  "colab": {
   "name": "babel.ipynb",
   "provenance": [],
   "toc_visible": true,
   "version": "0.3.2"
  },
  "kernelspec": {
   "display_name": "Python 3",
   "language": "python",
   "name": "python3"
  },
  "language_info": {
   "codemirror_mode": {
    "name": "ipython",
    "version": 3
   },
   "file_extension": ".py",
   "mimetype": "text/x-python",
   "name": "python",
   "nbconvert_exporter": "python",
   "pygments_lexer": "ipython3",
   "version": "3.7.6"
  },
  "widgets": {
   "application/vnd.jupyter.widget-state+json": {
    "state": {},
    "version_major": 2,
    "version_minor": 0
   }
  }
 },
 "nbformat": 4,
 "nbformat_minor": 4
}
