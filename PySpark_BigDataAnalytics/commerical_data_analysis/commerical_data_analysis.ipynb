{
 "cells": [
  {
   "cell_type": "markdown",
   "metadata": {},
   "source": [
    "# Commercial Data Analysis"
   ]
  },
  {
   "cell_type": "markdown",
   "metadata": {},
   "source": [
    "#### In this project, I worked with a dataset containing information about commercial businesses where each each record is a business location. "
   ]
  },
  {
   "cell_type": "code",
   "execution_count": 1,
   "metadata": {},
   "outputs": [],
   "source": [
    "from pyspark.sql import SparkSession\n",
    "\n",
    "spark = SparkSession.builder \\\n",
    "        .appName(\"comm\") \\\n",
    "        .getOrCreate()"
   ]
  },
  {
   "cell_type": "code",
   "execution_count": 2,
   "metadata": {},
   "outputs": [],
   "source": [
    "import os"
   ]
  },
  {
   "cell_type": "code",
   "execution_count": 3,
   "metadata": {},
   "outputs": [],
   "source": [
    "path_to_file = 'part-00000-a159c41a-bc58-4476-9b78-c437667f9c2b-c000.json.gz'"
   ]
  },
  {
   "cell_type": "markdown",
   "metadata": {},
   "source": [
    "### Read in the dataset and show the number of records"
   ]
  },
  {
   "cell_type": "code",
   "execution_count": 4,
   "metadata": {},
   "outputs": [
    {
     "data": {
      "text/plain": [
       "154679"
      ]
     },
     "execution_count": 4,
     "metadata": {},
     "output_type": "execute_result"
    }
   ],
   "source": [
    "df = spark.read.json(path_to_file)\n",
    "\n",
    "df.count()"
   ]
  },
  {
   "cell_type": "markdown",
   "metadata": {},
   "source": [
    "### Inspect the schema"
   ]
  },
  {
   "cell_type": "code",
   "execution_count": 5,
   "metadata": {},
   "outputs": [
    {
     "name": "stdout",
     "output_type": "stream",
     "text": [
      "root\n",
      " |-- address: struct (nullable = true)\n",
      " |    |-- city: string (nullable = true)\n",
      " |    |-- coordinates: struct (nullable = true)\n",
      " |    |    |-- lat: double (nullable = true)\n",
      " |    |    |-- lon: double (nullable = true)\n",
      " |    |-- country: string (nullable = true)\n",
      " |    |-- county: string (nullable = true)\n",
      " |    |-- full_address: string (nullable = true)\n",
      " |    |-- highway_number: string (nullable = true)\n",
      " |    |-- is_headquarters: boolean (nullable = true)\n",
      " |    |-- is_parsed: boolean (nullable = true)\n",
      " |    |-- post_direction: string (nullable = true)\n",
      " |    |-- pre_direction: string (nullable = true)\n",
      " |    |-- secondary_number: string (nullable = true)\n",
      " |    |-- state: string (nullable = true)\n",
      " |    |-- street: string (nullable = true)\n",
      " |    |-- street_address: string (nullable = true)\n",
      " |    |-- street_number: string (nullable = true)\n",
      " |    |-- street_type: string (nullable = true)\n",
      " |    |-- type_of_address: string (nullable = true)\n",
      " |    |-- zip: string (nullable = true)\n",
      " |    |-- zip_suffix: string (nullable = true)\n",
      " |-- business_tags: struct (nullable = true)\n",
      " |    |-- no: array (nullable = true)\n",
      " |    |    |-- element: string (containsNull = true)\n",
      " |    |-- tags: array (nullable = true)\n",
      " |    |    |-- element: struct (containsNull = true)\n",
      " |    |    |    |-- name: string (nullable = true)\n",
      " |    |    |    |-- value: string (nullable = true)\n",
      " |    |-- yes: array (nullable = true)\n",
      " |    |    |-- element: string (containsNull = true)\n",
      " |-- hours: struct (nullable = true)\n",
      " |    |-- any_day_is_24: boolean (nullable = true)\n",
      " |    |-- friday_close: string (nullable = true)\n",
      " |    |-- friday_lb: long (nullable = true)\n",
      " |    |-- friday_open: string (nullable = true)\n",
      " |    |-- friday_total_seconds: long (nullable = true)\n",
      " |    |-- hours: struct (nullable = true)\n",
      " |    |    |-- Friday: string (nullable = true)\n",
      " |    |    |-- Monday: string (nullable = true)\n",
      " |    |    |-- Saturday: string (nullable = true)\n",
      " |    |    |-- Sunday: string (nullable = true)\n",
      " |    |    |-- Thursday: string (nullable = true)\n",
      " |    |    |-- Tuesday: string (nullable = true)\n",
      " |    |    |-- Wednesday: string (nullable = true)\n",
      " |    |-- monday_close: string (nullable = true)\n",
      " |    |-- monday_lb: long (nullable = true)\n",
      " |    |-- monday_open: string (nullable = true)\n",
      " |    |-- monday_total_seconds: long (nullable = true)\n",
      " |    |-- saturday_close: string (nullable = true)\n",
      " |    |-- saturday_lb: long (nullable = true)\n",
      " |    |-- saturday_open: string (nullable = true)\n",
      " |    |-- saturday_total_seconds: long (nullable = true)\n",
      " |    |-- sunday_close: string (nullable = true)\n",
      " |    |-- sunday_lb: long (nullable = true)\n",
      " |    |-- sunday_open: string (nullable = true)\n",
      " |    |-- sunday_total_seconds: long (nullable = true)\n",
      " |    |-- thursday_close: string (nullable = true)\n",
      " |    |-- thursday_lb: long (nullable = true)\n",
      " |    |-- thursday_open: string (nullable = true)\n",
      " |    |-- thursday_total_seconds: long (nullable = true)\n",
      " |    |-- tuesday_close: string (nullable = true)\n",
      " |    |-- tuesday_lb: long (nullable = true)\n",
      " |    |-- tuesday_open: string (nullable = true)\n",
      " |    |-- tuesday_total_seconds: long (nullable = true)\n",
      " |    |-- wednesday_close: string (nullable = true)\n",
      " |    |-- wednesday_lb: long (nullable = true)\n",
      " |    |-- wednesday_open: string (nullable = true)\n",
      " |    |-- wednesday_total_seconds: long (nullable = true)\n",
      " |    |-- week_total_hours_pretty: string (nullable = true)\n",
      " |    |-- week_total_minutes_pretty: string (nullable = true)\n",
      " |    |-- week_total_seconds: long (nullable = true)\n",
      " |-- id: string (nullable = true)\n",
      " |-- menu: struct (nullable = true)\n",
      " |    |-- price_range: string (nullable = true)\n",
      " |    |-- url: string (nullable = true)\n",
      " |-- reviews: array (nullable = true)\n",
      " |    |-- element: struct (containsNull = true)\n",
      " |    |    |-- content: string (nullable = true)\n",
      " |    |    |-- date: string (nullable = true)\n",
      " |    |    |-- dislikes: long (nullable = true)\n",
      " |    |    |-- gender: string (nullable = true)\n",
      " |    |    |-- id: string (nullable = true)\n",
      " |    |    |-- language: string (nullable = true)\n",
      " |    |    |-- likes: long (nullable = true)\n",
      " |    |    |-- source: string (nullable = true)\n",
      " |    |    |-- stars: long (nullable = true)\n",
      " |    |    |-- tags: array (nullable = true)\n",
      " |    |    |    |-- element: string (containsNull = true)\n",
      " |    |    |-- url: string (nullable = true)\n",
      " |    |    |-- user: string (nullable = true)\n",
      " |    |    |-- user_id: string (nullable = true)\n",
      " |-- urls: struct (nullable = true)\n",
      " |    |-- domain: string (nullable = true)\n",
      " |    |-- domains: array (nullable = true)\n",
      " |    |    |-- element: string (containsNull = true)\n",
      " |    |-- email: string (nullable = true)\n",
      " |    |-- url: string (nullable = true)\n",
      " |    |-- urls: array (nullable = true)\n",
      " |    |    |-- element: string (containsNull = true)\n",
      " |-- webpage: struct (nullable = true)\n",
      " |    |-- content: string (nullable = true)\n",
      " |    |-- count: long (nullable = true)\n",
      " |    |-- elapsed: double (nullable = true)\n",
      " |    |-- success: boolean (nullable = true)\n",
      " |    |-- timestamp: string (nullable = true)\n",
      " |    |-- title: string (nullable = true)\n",
      " |    |-- url: string (nullable = true)\n",
      " |    |-- urlhash: string (nullable = true)\n",
      " |    |-- validurl: string (nullable = true)\n",
      "\n"
     ]
    }
   ],
   "source": [
    "df.printSchema()"
   ]
  },
  {
   "cell_type": "markdown",
   "metadata": {},
   "source": [
    "### Look at some data"
   ]
  },
  {
   "cell_type": "code",
   "execution_count": 15,
   "metadata": {},
   "outputs": [
    {
     "name": "stdout",
     "output_type": "stream",
     "text": [
      "+--------------------+--------------------+--------------------+----------------+----+--------------------+--------------------+--------------------+\n",
      "|             address|       business_tags|               hours|              id|menu|             reviews|                urls|             webpage|\n",
      "+--------------------+--------------------+--------------------+----------------+----+--------------------+--------------------+--------------------+\n",
      "|[Woodburn, [45.15...|                null|                null|000023995a540868|null|                  []|[woodburn.k12.or....|[Educational Tech...|\n",
      "|[Hialeah, [25.884...|[[], [[has_atm, Y...|[, 1900,, 0830, 3...|0000821a1394916e|null|                null|[, [yelp.com],,, ...|                null|\n",
      "|[Rochester, [43.1...|[[], [[accepts_cr...|[, 1700,, 0830, 3...|000136e65d50c3b7|null|[[New (to me) qui...|[usps.com, [yelp....|[Welcome | USPS G...|\n",
      "|[West Palm Beach,...|                null|                null|00014329a70b9869|null|                null|                null|                null|\n",
      "|[Eufaula, [35.283...|                null|[, 1700,, 0830, 3...|00031c0a83f00657|null|                null|[drsodomcoburnand...|[DRS. COBURN, RIC...|\n",
      "+--------------------+--------------------+--------------------+----------------+----+--------------------+--------------------+--------------------+\n",
      "only showing top 5 rows\n",
      "\n"
     ]
    }
   ],
   "source": [
    "df.select('*').show(5, True)"
   ]
  },
  {
   "cell_type": "markdown",
   "metadata": {},
   "source": [
    "### Count the number of records where the city is Houston"
   ]
  },
  {
   "cell_type": "code",
   "execution_count": 10,
   "metadata": {},
   "outputs": [
    {
     "data": {
      "text/plain": [
       "1668"
      ]
     },
     "execution_count": 10,
     "metadata": {},
     "output_type": "execute_result"
    }
   ],
   "source": [
    "df.filter(df.address.city=='Houston').count()"
   ]
  },
  {
   "cell_type": "markdown",
   "metadata": {},
   "source": [
    "### Count number of records where closing time on Friday is 7pm"
   ]
  },
  {
   "cell_type": "code",
   "execution_count": 11,
   "metadata": {},
   "outputs": [
    {
     "data": {
      "text/plain": [
       "3305"
      ]
     },
     "execution_count": 11,
     "metadata": {},
     "output_type": "execute_result"
    }
   ],
   "source": [
    "df.filter(df.hours.friday_close=='1900').count()"
   ]
  },
  {
   "cell_type": "markdown",
   "metadata": {},
   "source": [
    "### Count the number of records where city is Houston and closing time on Friday is 7pm"
   ]
  },
  {
   "cell_type": "code",
   "execution_count": 12,
   "metadata": {},
   "outputs": [
    {
     "data": {
      "text/plain": [
       "42"
      ]
     },
     "execution_count": 12,
     "metadata": {},
     "output_type": "execute_result"
    }
   ],
   "source": [
    "df.filter((df.address.city=='Houston') & (df.hours.friday_close=='1900')).count()"
   ]
  },
  {
   "cell_type": "markdown",
   "metadata": {},
   "source": [
    "### Price range is quoted in number of dollar signs.  Count the number of records with price range greater than or equal to three."
   ]
  },
  {
   "cell_type": "code",
   "execution_count": 13,
   "metadata": {},
   "outputs": [
    {
     "data": {
      "text/plain": [
       "115"
      ]
     },
     "execution_count": 13,
     "metadata": {},
     "output_type": "execute_result"
    }
   ],
   "source": [
    "df.filter(df.menu.price_range >= 3).count()"
   ]
  },
  {
   "cell_type": "markdown",
   "metadata": {},
   "source": [
    "### Count how many locations are HQ / are NOT HQ / are null?"
   ]
  },
  {
   "cell_type": "code",
   "execution_count": 14,
   "metadata": {},
   "outputs": [
    {
     "name": "stdout",
     "output_type": "stream",
     "text": [
      "+---------------+-----+\n",
      "|is_headquarters|count|\n",
      "+---------------+-----+\n",
      "|           null|87625|\n",
      "|           true|  318|\n",
      "|          false|66736|\n",
      "+---------------+-----+\n",
      "\n"
     ]
    }
   ],
   "source": [
    "df.groupBy('address.is_headquarters').count().show()"
   ]
  },
  {
   "cell_type": "markdown",
   "metadata": {},
   "source": [
    "### Use Spark SQL to select the webpage title where the webpage url (accessed under `webpage.url`) is *Target.com*.  \n",
    "\n",
    "### Show first result\n",
    "\n"
   ]
  },
  {
   "cell_type": "code",
   "execution_count": 16,
   "metadata": {},
   "outputs": [
    {
     "name": "stdout",
     "output_type": "stream",
     "text": [
      "+-------------------------------+\n",
      "|title                          |\n",
      "+-------------------------------+\n",
      "|Target : Expect More. Pay Less.|\n",
      "+-------------------------------+\n",
      "only showing top 1 row\n",
      "\n"
     ]
    }
   ],
   "source": [
    "df.registerTempTable('dff')\n",
    "df2 = spark.sql('select webpage.title from dff where webpage.url == \"Target.com\"')\n",
    "\n",
    "df2.show(1, False)"
   ]
  },
  {
   "cell_type": "markdown",
   "metadata": {},
   "source": [
    "### The reviews contains information such as the number of stars for each review (the *rating*).  \n",
    "### The ratings are stored in an array (`reviews.stars`) for each business location. Return the top five most common rating arrays.\n",
    "\n"
   ]
  },
  {
   "cell_type": "code",
   "execution_count": 17,
   "metadata": {},
   "outputs": [
    {
     "name": "stdout",
     "output_type": "stream",
     "text": [
      "+------+-----+\n",
      "| stars|count|\n",
      "+------+-----+\n",
      "|  null|74679|\n",
      "|    []|42419|\n",
      "|   [5]| 4258|\n",
      "|    []| 3067|\n",
      "|[5, 5]| 1610|\n",
      "+------+-----+\n",
      "only showing top 5 rows\n",
      "\n"
     ]
    }
   ],
   "source": [
    "df.groupBy('reviews.stars').count().orderBy('count', ascending=False).show(5)"
   ]
  },
  {
   "cell_type": "markdown",
   "metadata": {},
   "source": [
    "### Filtering out null ratings and to compute the average rating for each business location.\n",
    "\n",
    "\n",
    "### Create a new dataframe retaining two fields: `id`, `reviews.stars`\n"
   ]
  },
  {
   "cell_type": "code",
   "execution_count": 18,
   "metadata": {},
   "outputs": [],
   "source": [
    "r = df.select('id', 'reviews.stars')"
   ]
  },
  {
   "cell_type": "markdown",
   "metadata": {},
   "source": [
    "### Create a row for each rating  "
   ]
  },
  {
   "cell_type": "code",
   "execution_count": 19,
   "metadata": {},
   "outputs": [],
   "source": [
    "from pyspark.sql.functions import explode\n",
    "r = r.withColumn('rating', explode('stars'))"
   ]
  },
  {
   "cell_type": "markdown",
   "metadata": {},
   "source": [
    "### Return a count of the number of ratings in this dataframe"
   ]
  },
  {
   "cell_type": "code",
   "execution_count": 20,
   "metadata": {},
   "outputs": [
    {
     "data": {
      "text/plain": [
       "600082"
      ]
     },
     "execution_count": 20,
     "metadata": {},
     "output_type": "execute_result"
    }
   ],
   "source": [
    "r.count()"
   ]
  },
  {
   "cell_type": "code",
   "execution_count": 21,
   "metadata": {},
   "outputs": [
    {
     "name": "stdout",
     "output_type": "stream",
     "text": [
      "+----------------+------+------+\n",
      "|              id| stars|rating|\n",
      "+----------------+------+------+\n",
      "|000136e65d50c3b7|[4, 4]|     4|\n",
      "|000136e65d50c3b7|[4, 4]|     4|\n",
      "|0003b7589a4e12a0|   [5]|     5|\n",
      "|00045f958e4bb02a| [,,,]|  null|\n",
      "|00045f958e4bb02a| [,,,]|  null|\n",
      "+----------------+------+------+\n",
      "only showing top 5 rows\n",
      "\n"
     ]
    }
   ],
   "source": [
    "r.show(5)"
   ]
  },
  {
   "cell_type": "markdown",
   "metadata": {},
   "source": [
    "### Drop rows where the rating is null, and return a count of the number of non-null ratings"
   ]
  },
  {
   "cell_type": "code",
   "execution_count": 22,
   "metadata": {},
   "outputs": [
    {
     "data": {
      "text/plain": [
       "538241"
      ]
     },
     "execution_count": 22,
     "metadata": {},
     "output_type": "execute_result"
    }
   ],
   "source": [
    "rf = r.where(r.rating.isNotNull())\n",
    "rf.count()"
   ]
  },
  {
   "cell_type": "markdown",
   "metadata": {},
   "source": [
    "### Compute the average rating, grouped by `id`. After the average is computed, sort by `id` in ascending order and show the top 10 records.  "
   ]
  },
  {
   "cell_type": "code",
   "execution_count": 23,
   "metadata": {},
   "outputs": [
    {
     "name": "stdout",
     "output_type": "stream",
     "text": [
      "+----------------+------------------+\n",
      "|              id|       avg(rating)|\n",
      "+----------------+------------------+\n",
      "|000136e65d50c3b7|               4.0|\n",
      "|0003b7589a4e12a0|               5.0|\n",
      "|00059519f0dba1b4|3.3333333333333335|\n",
      "|000a1df4c8e0ecd2|               4.6|\n",
      "|000c7b7a30623083|               5.0|\n",
      "|000c9ffc8b89af03|               3.0|\n",
      "|000de20baa847ecc|1.6666666666666667|\n",
      "|001064359d9f162f|               5.0|\n",
      "|0010c9f495d87dd7|               3.0|\n",
      "|0017774db5e6400a| 4.333333333333333|\n",
      "+----------------+------------------+\n",
      "only showing top 10 rows\n",
      "\n"
     ]
    }
   ],
   "source": [
    "rf.groupBy(\"id\").agg({\"rating\":\"avg\"}).orderBy('id', ascending=True).show(10) "
   ]
  }
 ],
 "metadata": {
  "anaconda-cloud": {},
  "kernelspec": {
   "display_name": "DS 5110",
   "language": "python",
   "name": "ds5110"
  },
  "language_info": {
   "codemirror_mode": {
    "name": "ipython",
    "version": 3
   },
   "file_extension": ".py",
   "mimetype": "text/x-python",
   "name": "python",
   "nbconvert_exporter": "python",
   "pygments_lexer": "ipython3",
   "version": "3.7.10"
  }
 },
 "nbformat": 4,
 "nbformat_minor": 4
}
